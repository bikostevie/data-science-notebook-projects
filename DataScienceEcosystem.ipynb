{
 "cells": [
  {
   "cell_type": "markdown",
   "id": "b24b1c4d-55b3-4689-b690-e603d43eb467",
   "metadata": {},
   "source": [
    "# Data Science Tools and Ecosystems"
   ]
  },
  {
   "cell_type": "markdown",
   "id": "c242a776-21c8-46a0-b61b-5cc442bfaa26",
   "metadata": {},
   "source": [
    "In this Notebook Data Science Tools and Ecosystems are summarized\n"
   ]
  },
  {
   "cell_type": "markdown",
   "id": "9b687b9f-1d4f-4681-8b42-d83f74138a43",
   "metadata": {},
   "source": [
    "**Objectives:**\n",
    "\n",
    "- List popular languages for Data Science\n",
    "- Explain key libraries used in Data Science\n",
    "- Demonstrate how to create tables and plots in Jupyter Notebook\n",
    "- Creating arithmetic expressions\n",
    "- Convert units such as minutes to hours"
   ]
  },
  {
   "cell_type": "markdown",
   "id": "0b3c6d12-7d9d-4cec-9cbe-16898c5f7a23",
   "metadata": {},
   "source": [
    "Some of the popular languages that Data Scientists use are:\n",
    "1. Python\n",
    "2. SQL\n",
    "3. R\n",
    "4. Julia\n",
    "   "
   ]
  },
  {
   "cell_type": "markdown",
   "id": "858d16c8-5a4f-469a-9311-0e4dff6f78c3",
   "metadata": {},
   "source": [
    "Some of the commonly used libraries used by Data Scientists include:\n",
    "1. Pandas\n",
    "2. Numpy\n",
    "3. Matplotlib"
   ]
  },
  {
   "cell_type": "markdown",
   "id": "77f93638-2434-48b8-b1a7-d277020d744d",
   "metadata": {},
   "source": [
    "| Data Science Tools       |\n",
    "|--------------------------|\n",
    "| Jupyter Notebook         |\n",
    "| RStudio                  |\n",
    "| Apache Zeppelin          |\n"
   ]
  },
  {
   "cell_type": "markdown",
   "id": "8dd3b7a8-9712-4eb3-b319-bfc90433c204",
   "metadata": {},
   "source": [
    "Below are a few examples of evaluating arithmetic expressions in Python"
   ]
  },
  {
   "cell_type": "code",
   "execution_count": 16,
   "id": "a8ddd945-a9c1-44d4-8d0a-723ca9cbde8a",
   "metadata": {},
   "outputs": [
    {
     "data": {
      "text/plain": [
       "17"
      ]
     },
     "execution_count": 16,
     "metadata": {},
     "output_type": "execute_result"
    }
   ],
   "source": [
    "#This a simple arithmetic expression to mutiply then add integers\n",
    "(3*4)+5"
   ]
  },
  {
   "cell_type": "code",
   "execution_count": 18,
   "id": "4e7adcf5-31f8-4aee-9c0b-c28bebe8df8a",
   "metadata": {},
   "outputs": [
    {
     "data": {
      "text/plain": [
       "3.3333333333333335"
      ]
     },
     "execution_count": 18,
     "metadata": {},
     "output_type": "execute_result"
    }
   ],
   "source": [
    "#This will convert 200 minutes to hours by diving by 60\n",
    "hours = 200 / 60\n",
    "hours"
   ]
  },
  {
   "cell_type": "markdown",
   "id": "48a4453f-0c9b-4b3c-8849-37cd7e5803d0",
   "metadata": {},
   "source": [
    "## Author\n",
    "Steve Biko Onyambu"
   ]
  },
  {
   "cell_type": "code",
   "execution_count": null,
   "id": "d23bfe95-7399-4820-b31a-c07bb148f583",
   "metadata": {},
   "outputs": [],
   "source": []
  }
 ],
 "metadata": {
  "kernelspec": {
   "display_name": "Python 3 (ipykernel)",
   "language": "python",
   "name": "python3"
  },
  "language_info": {
   "codemirror_mode": {
    "name": "ipython",
    "version": 3
   },
   "file_extension": ".py",
   "mimetype": "text/x-python",
   "name": "python",
   "nbconvert_exporter": "python",
   "pygments_lexer": "ipython3",
   "version": "3.12.7"
  }
 },
 "nbformat": 4,
 "nbformat_minor": 5
}
